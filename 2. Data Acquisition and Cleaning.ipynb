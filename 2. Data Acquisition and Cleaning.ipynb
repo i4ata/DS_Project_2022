{
 "cells": [
  {
   "cell_type": "markdown",
   "id": "8fe9a03a",
   "metadata": {},
   "source": [
    "# 2. Data Acquisition and Cleaning"
   ]
  },
  {
   "cell_type": "code",
   "execution_count": 1,
   "id": "84758d84",
   "metadata": {},
   "outputs": [],
   "source": [
    "%matplotlib inline"
   ]
  },
  {
   "cell_type": "code",
   "execution_count": 2,
   "id": "d5cbd504",
   "metadata": {},
   "outputs": [],
   "source": [
    "import pandas as pd\n",
    "import numpy as np\n",
    "import matplotlib.pyplot as plt"
   ]
  },
  {
   "cell_type": "markdown",
   "id": "ecaf676a",
   "metadata": {},
   "source": [
    "## Data Aquisition"
   ]
  },
  {
   "cell_type": "markdown",
   "id": "62db0043",
   "metadata": {},
   "source": [
    "This project looks at 2 independent datasets that were downloaded raw from the website __[kaggle.com](http://www.kaggle.com)__. Their versions are the present ones as of 10 August 2022. The datasets contain information about the daily weather [__[1](https://www.kaggle.com/datasets/vanvalkenberg/historicalweatherdataforindiancities)__] and power consumption [__[2](https://www.kaggle.com/datasets/twinkle0705/state-wise-power-consumption-in-india)__] in 6 major states in the country of India over a couple of years. They can be found in the folder data &rarr; raw. This notebook examines the raw datasets and cleans them separately such that they are appropriate for the analytics in the later parts of the project."
   ]
  },
  {
   "cell_type": "code",
   "execution_count": 3,
   "id": "923cb03e",
   "metadata": {},
   "outputs": [],
   "source": [
    "raw_data = \"data/raw\""
   ]
  },
  {
   "cell_type": "markdown",
   "id": "55218e0d",
   "metadata": {},
   "source": [
    "## Weather"
   ]
  },
  {
   "cell_type": "markdown",
   "id": "edf4b6f5",
   "metadata": {},
   "source": [
    "I begin with the data about the weather. It originally contains 6 csv files, each referring to the biggest weather station in the cities Bangalore, Chennai, Delhi, Lucknow, Mumbai, and Rajasthan from 1990 to 2022. For convenience, I extract the cities and their respective provinces in a python dictionary."
   ]
  },
  {
   "cell_type": "code",
   "execution_count": 4,
   "id": "4cc78328",
   "metadata": {},
   "outputs": [],
   "source": [
    "states_and_cities = {\n",
    "    \"Karnataka\": \"Bangalore\",\n",
    "    \"Tamil Nadu\": \"Chennai\",\n",
    "    \"Delhi\": \"Delhi\",\n",
    "    \"Uttar Pradesh\": \"Lucknow\", \n",
    "    \"Maharashtra\": \"Mumbai\",\n",
    "    \"Rajasthan\": \"Rajasthan\"}"
   ]
  },
  {
   "cell_type": "markdown",
   "id": "d96a54fc",
   "metadata": {},
   "source": [
    "I read the 6 files in a list."
   ]
  },
  {
   "cell_type": "code",
   "execution_count": 5,
   "id": "c2d0f801",
   "metadata": {},
   "outputs": [],
   "source": [
    "weather_data_all = [pd.read_csv(raw_data + \"/weather/\" + city + \".csv\") for city in states_and_cities.values()]"
   ]
  },
  {
   "cell_type": "markdown",
   "id": "3dc03c70",
   "metadata": {},
   "source": [
    "Each file contains 5 columns: the date of the observation, the mean, maximum, and minimum temperature for that day in °C and the precipitation value in millimiters."
   ]
  },
  {
   "cell_type": "code",
   "execution_count": 6,
   "id": "ca970d58",
   "metadata": {},
   "outputs": [
    {
     "data": {
      "text/html": [
       "<div>\n",
       "<style scoped>\n",
       "    .dataframe tbody tr th:only-of-type {\n",
       "        vertical-align: middle;\n",
       "    }\n",
       "\n",
       "    .dataframe tbody tr th {\n",
       "        vertical-align: top;\n",
       "    }\n",
       "\n",
       "    .dataframe thead th {\n",
       "        text-align: right;\n",
       "    }\n",
       "</style>\n",
       "<table border=\"1\" class=\"dataframe\">\n",
       "  <thead>\n",
       "    <tr style=\"text-align: right;\">\n",
       "      <th></th>\n",
       "      <th>time</th>\n",
       "      <th>tavg</th>\n",
       "      <th>tmin</th>\n",
       "      <th>tmax</th>\n",
       "      <th>prcp</th>\n",
       "    </tr>\n",
       "  </thead>\n",
       "  <tbody>\n",
       "    <tr>\n",
       "      <th>0</th>\n",
       "      <td>01-01-1990</td>\n",
       "      <td>22.9</td>\n",
       "      <td>19.1</td>\n",
       "      <td>28.4</td>\n",
       "      <td>NaN</td>\n",
       "    </tr>\n",
       "    <tr>\n",
       "      <th>1</th>\n",
       "      <td>02-01-1990</td>\n",
       "      <td>21.7</td>\n",
       "      <td>NaN</td>\n",
       "      <td>26.5</td>\n",
       "      <td>0.0</td>\n",
       "    </tr>\n",
       "    <tr>\n",
       "      <th>2</th>\n",
       "      <td>03-01-1990</td>\n",
       "      <td>21.0</td>\n",
       "      <td>16.4</td>\n",
       "      <td>26.5</td>\n",
       "      <td>0.0</td>\n",
       "    </tr>\n",
       "    <tr>\n",
       "      <th>3</th>\n",
       "      <td>04-01-1990</td>\n",
       "      <td>20.8</td>\n",
       "      <td>NaN</td>\n",
       "      <td>27.4</td>\n",
       "      <td>0.0</td>\n",
       "    </tr>\n",
       "    <tr>\n",
       "      <th>4</th>\n",
       "      <td>05-01-1990</td>\n",
       "      <td>20.4</td>\n",
       "      <td>14.2</td>\n",
       "      <td>26.1</td>\n",
       "      <td>0.0</td>\n",
       "    </tr>\n",
       "  </tbody>\n",
       "</table>\n",
       "</div>"
      ],
      "text/plain": [
       "         time  tavg  tmin  tmax  prcp\n",
       "0  01-01-1990  22.9  19.1  28.4   NaN\n",
       "1  02-01-1990  21.7   NaN  26.5   0.0\n",
       "2  03-01-1990  21.0  16.4  26.5   0.0\n",
       "3  04-01-1990  20.8   NaN  27.4   0.0\n",
       "4  05-01-1990  20.4  14.2  26.1   0.0"
      ]
     },
     "execution_count": 6,
     "metadata": {},
     "output_type": "execute_result"
    }
   ],
   "source": [
    "weather_data_all[0].head()"
   ]
  },
  {
   "cell_type": "markdown",
   "id": "7f05b755",
   "metadata": {},
   "source": [
    "I add the corresponding state as a column because the dataframes will be merged together and that way the state is preserved."
   ]
  },
  {
   "cell_type": "code",
   "execution_count": 7,
   "id": "04f822d1",
   "metadata": {},
   "outputs": [],
   "source": [
    "for i in range(len(weather_data_all)):\n",
    "    weather_data_all[i][\"state\"] = list(states_and_cities.keys())[i]"
   ]
  },
  {
   "cell_type": "markdown",
   "id": "b0467353",
   "metadata": {},
   "source": [
    "I know inspect for any missing values."
   ]
  },
  {
   "cell_type": "code",
   "execution_count": 8,
   "id": "8f9a047f",
   "metadata": {},
   "outputs": [
    {
     "name": "stdout",
     "output_type": "stream",
     "text": [
      "Karnataka missing values:\n",
      "tavg      70\n",
      "tmin    1389\n",
      "tmax     629\n",
      "prcp    4620\n",
      "dtype: int64\n",
      "\n",
      "Tamil Nadu missing values:\n",
      "tavg      27\n",
      "tmin    3084\n",
      "tmax    1019\n",
      "prcp    4886\n",
      "dtype: int64\n",
      "\n",
      "Delhi missing values:\n",
      "tavg      94\n",
      "tmin    1536\n",
      "tmax     533\n",
      "prcp    6140\n",
      "dtype: int64\n",
      "\n",
      "Uttar Pradesh missing values:\n",
      "tavg     138\n",
      "tmin    3515\n",
      "tmax    1553\n",
      "prcp    6152\n",
      "dtype: int64\n",
      "\n",
      "Maharashtra missing values:\n",
      "tavg      11\n",
      "tmin    2454\n",
      "tmax    1907\n",
      "prcp    4681\n",
      "dtype: int64\n",
      "\n",
      "Rajasthan missing values:\n",
      "tavg      70\n",
      "tmin    1389\n",
      "tmax     629\n",
      "prcp    4620\n",
      "dtype: int64\n",
      "\n"
     ]
    }
   ],
   "source": [
    "for df in weather_data_all:\n",
    "    print(df.state[0] + \" missing values:\")\n",
    "    print(df.isnull().sum()[[\"tavg\", \"tmin\", \"tmax\", \"prcp\"]])\n",
    "    print()"
   ]
  },
  {
   "cell_type": "markdown",
   "id": "9620ff5e",
   "metadata": {},
   "source": [
    "It appears that there are missing values in all numeric columns. They needto be handled."
   ]
  },
  {
   "cell_type": "markdown",
   "id": "adafd4b2",
   "metadata": {},
   "source": [
    "For the columns that denote temperature, we can check if we can interpolate. That is, check if we can approximate the temperature today as the average of the temperature tomorrow and the temperature today. We would imagine that this is appropriate, since maximal, minimal, and mean temperatures usually do not change significantly day by day. To check that, we can subtract each datapoint from its respective datapoint tomorrow and repeat that for every state. If the resulting population has mean value and standard deviation both close to 0, we can conclude that each datapoint is similar to its neighbors and it would be appropriate to interpolate. "
   ]
  },
  {
   "cell_type": "code",
   "execution_count": 9,
   "id": "a8756d21",
   "metadata": {},
   "outputs": [],
   "source": [
    "def subtract_neighbors(x):\n",
    "    result = x - np.roll(x, 1)\n",
    "    return \"mean: \" + str(result.mean()) + \"; standard deviation: \" + str(result.std())"
   ]
  },
  {
   "cell_type": "code",
   "execution_count": 10,
   "id": "9cbf2b65",
   "metadata": {},
   "outputs": [
    {
     "name": "stdout",
     "output_type": "stream",
     "text": [
      "Karnataka\n",
      "Minimal temperature differences: mean: 0.06703952274422074; standard deviation: 1.1207495184454854\n",
      "Mean temperature differences: mean: -0.0010367097212780427; standard deviation: 0.9884867673593898\n",
      "Maximal temperature differences: mean: 0.003571428571428568; standard deviation: 1.3417163144630424\n",
      "\n",
      "Tamil Nadu\n",
      "Minimal temperature differences: mean: 0.17843193566915563; standard deviation: 1.1589178962832745\n",
      "Mean temperature differences: mean: 0.0004220121539500341; standard deviation: 0.9463741493464037\n",
      "Maximal temperature differences: mean: -0.004678998911860719; standard deviation: 1.399206509662877\n",
      "\n",
      "Delhi\n",
      "Minimal temperature differences: mean: 0.18142576847612818; standard deviation: 1.747133421810153\n",
      "Mean temperature differences: mean: 0.000562659846547317; standard deviation: 1.5674288414559576\n",
      "Maximal temperature differences: mean: 0.0056524518308830205; standard deviation: 1.9345920980101354\n",
      "\n",
      "Uttar Pradesh\n",
      "Minimal temperature differences: mean: 0.20311610486891388; standard deviation: 1.6322526165664712\n",
      "Mean temperature differences: mean: 0.0022524837273038708; standard deviation: 1.5749389236566125\n",
      "Maximal temperature differences: mean: -0.06580377117289866; standard deviation: 1.5754489925347253\n",
      "\n",
      "Maharashtra\n",
      "Minimal temperature differences: mean: 0.14227751899975483; standard deviation: 1.315915182449789\n",
      "Mean temperature differences: mean: 9.263157894736883e-05; standard deviation: 0.9190876309026212\n",
      "Maximal temperature differences: mean: -0.008292574477545571; standard deviation: 1.404626729981111\n",
      "\n",
      "Rajasthan\n",
      "Minimal temperature differences: mean: 0.06703952274422074; standard deviation: 1.1207495184454854\n",
      "Mean temperature differences: mean: -0.0010367097212780427; standard deviation: 0.9884867673593898\n",
      "Maximal temperature differences: mean: 0.003571428571428568; standard deviation: 1.3417163144630424\n",
      "\n"
     ]
    }
   ],
   "source": [
    "for df in weather_data_all:\n",
    "    print(df[\"state\"][0])\n",
    "    print(\"Minimal temperature differences: \" + subtract_neighbors(df[\"tmin\"]))\n",
    "    print(\"Mean temperature differences: \" + subtract_neighbors(df[\"tavg\"]))\n",
    "    print(\"Maximal temperature differences: \" + subtract_neighbors(df[\"tmax\"]))\n",
    "    print()"
   ]
  },
  {
   "cell_type": "markdown",
   "id": "708eb413",
   "metadata": {},
   "source": [
    "That seems to be the case. The mean values are all close to 0 and the standard deviations are mostly around 1. It is noteable that some deviations from the mean in the resulting populations can be caused by the multiple missing values. I conclude that it is appropriate to interpolate."
   ]
  },
  {
   "cell_type": "code",
   "execution_count": 11,
   "id": "f8819a35",
   "metadata": {},
   "outputs": [],
   "source": [
    "for df in weather_data_all:\n",
    "    df[\"tavg\"] = df[\"tavg\"].interpolate()\n",
    "    df[\"tmin\"] = df[\"tmin\"].interpolate()\n",
    "    df[\"tmax\"] = df[\"tmax\"].interpolate()"
   ]
  },
  {
   "cell_type": "markdown",
   "id": "cf44b25d",
   "metadata": {},
   "source": [
    "Now I handle the missing values in the precipitation columns. The case here is different because naturally the amount of rain can vary from day to day. We might consider replacing the missing values with the mean precipitation for state. To check if that is appropriate I plot the distribution of the precipitation for each state."
   ]
  },
  {
   "cell_type": "code",
   "execution_count": 12,
   "id": "34454469",
   "metadata": {},
   "outputs": [
    {
     "data": {
      "image/png": "[encoded data removed]",
      "text/plain": [
       "<Figure size 1080x216 with 1 Axes>"
      ]
     },
     "metadata": {
      "needs_background": "light"
     },
     "output_type": "display_data"
    },
    {
     "data": {
      "image/png": "[encoded data removed]",
      "text/plain": [
       "<Figure size 1080x216 with 1 Axes>"
      ]
     },
     "metadata": {
      "needs_background": "light"
     },
     "output_type": "display_data"
    },
    {
     "data": {
      "image/png": "[encoded data removed]",
      "text/plain": [
       "<Figure size 1080x216 with 1 Axes>"
      ]
     },
     "metadata": {
      "needs_background": "light"
     },
     "output_type": "display_data"
    },
    {
     "data": {
      "image/png": "[encoded data removed]",
      "text/plain": [
       "<Figure size 1080x216 with 1 Axes>"
      ]
     },
     "metadata": {
      "needs_background": "light"
     },
     "output_type": "display_data"
    },
    {
     "data": {
      "image/png": "[encoded data removed]",
      "text/plain": [
       "<Figure size 1080x216 with 1 Axes>"
      ]
     },
     "metadata": {
      "needs_background": "light"
     },
     "output_type": "display_data"
    },
    {
     "data": {
      "image/png": "[encoded data removed]",
      "text/plain": [
       "<Figure size 1080x216 with 1 Axes>"
      ]
     },
     "metadata": {
      "needs_background": "light"
     },
     "output_type": "display_data"
    }
   ],
   "source": [
    "for df in weather_data_all:\n",
    "    plt.figure(figsize=(15,3))\n",
    "    plt.hist(df[\"prcp\"], bins = df[\"prcp\"].nunique())\n",
    "    plt.xlim(-0.5,100)\n",
    "    plt.ylim(0,5100)\n",
    "    plt.xlabel(\"Precipitation in mm\")\n",
    "    plt.ylabel(\"Number of days\")\n",
    "    plt.title(df[\"state\"][0] + \" precipitation distribution\")\n",
    "    plt.show()"
   ]
  },
  {
   "cell_type": "markdown",
   "id": "95e04858",
   "metadata": {},
   "source": [
    "It appears that all distributions are very skewed to the right and there are some outliers. For such distributions, the median value is much more descriptive. Therefore, I use the median value for each state to replace the missing precipitation values."
   ]
  },
  {
   "cell_type": "code",
   "execution_count": 13,
   "id": "683f2352",
   "metadata": {},
   "outputs": [],
   "source": [
    "for df in weather_data_all:\n",
    "    df[\"prcp\"] = df[\"prcp\"].fillna(df[\"prcp\"].median())"
   ]
  },
  {
   "cell_type": "markdown",
   "id": "3e13e0b9",
   "metadata": {},
   "source": [
    "I have handled the missing values and now the dataframes can be merged into one."
   ]
  },
  {
   "cell_type": "code",
   "execution_count": 14,
   "id": "5a64e9d2",
   "metadata": {},
   "outputs": [],
   "source": [
    "weather_data = pd.concat(weather_data_all, ignore_index = True)"
   ]
  },
  {
   "cell_type": "markdown",
   "id": "bbfa7d4a",
   "metadata": {},
   "source": [
    "I check to confirm that all missing values have been removed."
   ]
  },
  {
   "cell_type": "code",
   "execution_count": 15,
   "id": "e99cd48b",
   "metadata": {},
   "outputs": [
    {
     "data": {
      "text/plain": [
       "time     0\n",
       "tavg     0\n",
       "tmin     2\n",
       "tmax     1\n",
       "prcp     0\n",
       "state    0\n",
       "dtype: int64"
      ]
     },
     "execution_count": 15,
     "metadata": {},
     "output_type": "execute_result"
    }
   ],
   "source": [
    "weather_data.isnull().sum()"
   ]
  },
  {
   "cell_type": "markdown",
   "id": "323419fe",
   "metadata": {},
   "source": [
    "It appears that there are a few missing values remaining. I handle them manually."
   ]
  },
  {
   "cell_type": "code",
   "execution_count": 16,
   "id": "53a8ff1d",
   "metadata": {},
   "outputs": [
    {
     "data": {
      "text/html": [
       "<div>\n",
       "<style scoped>\n",
       "    .dataframe tbody tr th:only-of-type {\n",
       "        vertical-align: middle;\n",
       "    }\n",
       "\n",
       "    .dataframe tbody tr th {\n",
       "        vertical-align: top;\n",
       "    }\n",
       "\n",
       "    .dataframe thead th {\n",
       "        text-align: right;\n",
       "    }\n",
       "</style>\n",
       "<table border=\"1\" class=\"dataframe\">\n",
       "  <thead>\n",
       "    <tr style=\"text-align: right;\">\n",
       "      <th></th>\n",
       "      <th>time</th>\n",
       "      <th>tavg</th>\n",
       "      <th>tmin</th>\n",
       "      <th>tmax</th>\n",
       "      <th>prcp</th>\n",
       "      <th>state</th>\n",
       "    </tr>\n",
       "  </thead>\n",
       "  <tbody>\n",
       "    <tr>\n",
       "      <th>35682</th>\n",
       "      <td>01-01-1990</td>\n",
       "      <td>7.2</td>\n",
       "      <td>NaN</td>\n",
       "      <td>18.1</td>\n",
       "      <td>0.0</td>\n",
       "      <td>Uttar Pradesh</td>\n",
       "    </tr>\n",
       "    <tr>\n",
       "      <th>35683</th>\n",
       "      <td>02-01-1990</td>\n",
       "      <td>10.5</td>\n",
       "      <td>NaN</td>\n",
       "      <td>17.2</td>\n",
       "      <td>0.0</td>\n",
       "      <td>Uttar Pradesh</td>\n",
       "    </tr>\n",
       "    <tr>\n",
       "      <th>47576</th>\n",
       "      <td>01-01-1990</td>\n",
       "      <td>23.2</td>\n",
       "      <td>17.0</td>\n",
       "      <td>NaN</td>\n",
       "      <td>0.0</td>\n",
       "      <td>Maharashtra</td>\n",
       "    </tr>\n",
       "  </tbody>\n",
       "</table>\n",
       "</div>"
      ],
      "text/plain": [
       "             time  tavg  tmin  tmax  prcp          state\n",
       "35682  01-01-1990   7.2   NaN  18.1   0.0  Uttar Pradesh\n",
       "35683  02-01-1990  10.5   NaN  17.2   0.0  Uttar Pradesh\n",
       "47576  01-01-1990  23.2  17.0   NaN   0.0    Maharashtra"
      ]
     },
     "execution_count": 16,
     "metadata": {},
     "output_type": "execute_result"
    }
   ],
   "source": [
    "weather_data[(weather_data[\"tmin\"].isna()) | (weather_data[\"tmax\"].isna())]"
   ]
  },
  {
   "cell_type": "markdown",
   "id": "b3783537",
   "metadata": {},
   "source": [
    "It appears that the missing values for the temperature are the very first values in the dataframe for their respective states. It makes sense that they remain missing after interpolation since they have at most 1 neighbor. I replace the missing values with their neighbor in the column."
   ]
  },
  {
   "cell_type": "code",
   "execution_count": 17,
   "id": "13dd01ce",
   "metadata": {},
   "outputs": [
    {
     "data": {
      "text/plain": [
       "(Int64Index([35682, 35683], dtype='int64'), Int64Index([47576], dtype='int64'))"
      ]
     },
     "execution_count": 17,
     "metadata": {},
     "output_type": "execute_result"
    }
   ],
   "source": [
    "weather_data[weather_data[\"tmin\"].isna()].index, weather_data[weather_data[\"tmax\"].isna()].index"
   ]
  },
  {
   "cell_type": "code",
   "execution_count": 18,
   "id": "473627f0",
   "metadata": {},
   "outputs": [],
   "source": [
    "weather_data.at[35683, \"tmin\"] = weather_data.at[35684, \"tmin\"]\n",
    "weather_data.at[35682, \"tmin\"] = weather_data.at[35683, \"tmin\"]\n",
    "weather_data.at[47576, \"tmax\"] = weather_data.at[47577, \"tmax\"]"
   ]
  },
  {
   "cell_type": "markdown",
   "id": "97671240",
   "metadata": {},
   "source": [
    "Now that I have filled all of the missing values, I can check the datatypes of the columns"
   ]
  },
  {
   "cell_type": "code",
   "execution_count": 19,
   "id": "094031fa",
   "metadata": {},
   "outputs": [
    {
     "data": {
      "text/plain": [
       "time      object\n",
       "tavg     float64\n",
       "tmin     float64\n",
       "tmax     float64\n",
       "prcp     float64\n",
       "state     object\n",
       "dtype: object"
      ]
     },
     "execution_count": 19,
     "metadata": {},
     "output_type": "execute_result"
    }
   ],
   "source": [
    "weather_data.dtypes"
   ]
  },
  {
   "cell_type": "markdown",
   "id": "dd8f9947",
   "metadata": {},
   "source": [
    "I change the type of the columns of type *object* with a more appropriate type. Then I sort the rows by date and state."
   ]
  },
  {
   "cell_type": "code",
   "execution_count": 20,
   "id": "60a34c55",
   "metadata": {},
   "outputs": [],
   "source": [
    "weather_data[\"state\"] = weather_data[\"state\"].astype(\"string\")\n",
    "weather_data[\"time\"] = pd.to_datetime(weather_data[\"time\"], format = '%d-%m-%Y')\n",
    "weather_data = weather_data.rename(columns = {\"time\" : \"date\"})\n",
    "weather_data = weather_data.sort_values(by=[\"date\", \"state\"],ascending=True, ignore_index = True)"
   ]
  },
  {
   "cell_type": "code",
   "execution_count": 21,
   "id": "e0e3aad6",
   "metadata": {},
   "outputs": [
    {
     "data": {
      "text/html": [
       "<div>\n",
       "<style scoped>\n",
       "    .dataframe tbody tr th:only-of-type {\n",
       "        vertical-align: middle;\n",
       "    }\n",
       "\n",
       "    .dataframe tbody tr th {\n",
       "        vertical-align: top;\n",
       "    }\n",
       "\n",
       "    .dataframe thead th {\n",
       "        text-align: right;\n",
       "    }\n",
       "</style>\n",
       "<table border=\"1\" class=\"dataframe\">\n",
       "  <thead>\n",
       "    <tr style=\"text-align: right;\">\n",
       "      <th></th>\n",
       "      <th>date</th>\n",
       "      <th>tavg</th>\n",
       "      <th>tmin</th>\n",
       "      <th>tmax</th>\n",
       "      <th>prcp</th>\n",
       "      <th>state</th>\n",
       "    </tr>\n",
       "  </thead>\n",
       "  <tbody>\n",
       "    <tr>\n",
       "      <th>0</th>\n",
       "      <td>1990-01-01</td>\n",
       "      <td>9.4</td>\n",
       "      <td>6.0</td>\n",
       "      <td>15.1</td>\n",
       "      <td>0.0</td>\n",
       "      <td>Delhi</td>\n",
       "    </tr>\n",
       "    <tr>\n",
       "      <th>1</th>\n",
       "      <td>1990-01-01</td>\n",
       "      <td>22.9</td>\n",
       "      <td>19.1</td>\n",
       "      <td>28.4</td>\n",
       "      <td>0.0</td>\n",
       "      <td>Karnataka</td>\n",
       "    </tr>\n",
       "    <tr>\n",
       "      <th>2</th>\n",
       "      <td>1990-01-01</td>\n",
       "      <td>23.2</td>\n",
       "      <td>17.0</td>\n",
       "      <td>29.9</td>\n",
       "      <td>0.0</td>\n",
       "      <td>Maharashtra</td>\n",
       "    </tr>\n",
       "    <tr>\n",
       "      <th>3</th>\n",
       "      <td>1990-01-01</td>\n",
       "      <td>22.9</td>\n",
       "      <td>19.1</td>\n",
       "      <td>28.4</td>\n",
       "      <td>0.0</td>\n",
       "      <td>Rajasthan</td>\n",
       "    </tr>\n",
       "    <tr>\n",
       "      <th>4</th>\n",
       "      <td>1990-01-01</td>\n",
       "      <td>25.2</td>\n",
       "      <td>22.8</td>\n",
       "      <td>28.4</td>\n",
       "      <td>0.5</td>\n",
       "      <td>Tamil Nadu</td>\n",
       "    </tr>\n",
       "    <tr>\n",
       "      <th>...</th>\n",
       "      <td>...</td>\n",
       "      <td>...</td>\n",
       "      <td>...</td>\n",
       "      <td>...</td>\n",
       "      <td>...</td>\n",
       "      <td>...</td>\n",
       "    </tr>\n",
       "    <tr>\n",
       "      <th>71359</th>\n",
       "      <td>2022-07-25</td>\n",
       "      <td>24.1</td>\n",
       "      <td>20.2</td>\n",
       "      <td>28.5</td>\n",
       "      <td>0.5</td>\n",
       "      <td>Karnataka</td>\n",
       "    </tr>\n",
       "    <tr>\n",
       "      <th>71360</th>\n",
       "      <td>2022-07-25</td>\n",
       "      <td>28.3</td>\n",
       "      <td>25.1</td>\n",
       "      <td>30.2</td>\n",
       "      <td>7.1</td>\n",
       "      <td>Maharashtra</td>\n",
       "    </tr>\n",
       "    <tr>\n",
       "      <th>71361</th>\n",
       "      <td>2022-07-25</td>\n",
       "      <td>24.1</td>\n",
       "      <td>20.2</td>\n",
       "      <td>28.5</td>\n",
       "      <td>0.5</td>\n",
       "      <td>Rajasthan</td>\n",
       "    </tr>\n",
       "    <tr>\n",
       "      <th>71362</th>\n",
       "      <td>2022-07-25</td>\n",
       "      <td>28.1</td>\n",
       "      <td>25.4</td>\n",
       "      <td>32.6</td>\n",
       "      <td>2.9</td>\n",
       "      <td>Tamil Nadu</td>\n",
       "    </tr>\n",
       "    <tr>\n",
       "      <th>71363</th>\n",
       "      <td>2022-07-25</td>\n",
       "      <td>27.1</td>\n",
       "      <td>24.1</td>\n",
       "      <td>34.3</td>\n",
       "      <td>0.5</td>\n",
       "      <td>Uttar Pradesh</td>\n",
       "    </tr>\n",
       "  </tbody>\n",
       "</table>\n",
       "<p>71364 rows × 6 columns</p>\n",
       "</div>"
      ],
      "text/plain": [
       "            date  tavg  tmin  tmax  prcp          state\n",
       "0     1990-01-01   9.4   6.0  15.1   0.0          Delhi\n",
       "1     1990-01-01  22.9  19.1  28.4   0.0      Karnataka\n",
       "2     1990-01-01  23.2  17.0  29.9   0.0    Maharashtra\n",
       "3     1990-01-01  22.9  19.1  28.4   0.0      Rajasthan\n",
       "4     1990-01-01  25.2  22.8  28.4   0.5     Tamil Nadu\n",
       "...          ...   ...   ...   ...   ...            ...\n",
       "71359 2022-07-25  24.1  20.2  28.5   0.5      Karnataka\n",
       "71360 2022-07-25  28.3  25.1  30.2   7.1    Maharashtra\n",
       "71361 2022-07-25  24.1  20.2  28.5   0.5      Rajasthan\n",
       "71362 2022-07-25  28.1  25.4  32.6   2.9     Tamil Nadu\n",
       "71363 2022-07-25  27.1  24.1  34.3   0.5  Uttar Pradesh\n",
       "\n",
       "[71364 rows x 6 columns]"
      ]
     },
     "execution_count": 21,
     "metadata": {},
     "output_type": "execute_result"
    }
   ],
   "source": [
    "weather_data"
   ]
  },
  {
   "cell_type": "markdown",
   "id": "19ab75f1",
   "metadata": {},
   "source": [
    "I also check for any skipped dates in the dataframe."
   ]
  },
  {
   "cell_type": "code",
   "execution_count": 22,
   "id": "72fe985b",
   "metadata": {},
   "outputs": [],
   "source": [
    "def check_missing_dates(df):\n",
    "    dates_range = pd.date_range(start = min(df[\"date\"]), end = max(df[\"date\"]))\n",
    "    for name, group in df.groupby(\"state\"):\n",
    "        diff = dates_range.difference(group[\"date\"])\n",
    "        print(name)\n",
    "        print(diff)\n",
    "        print()"
   ]
  },
  {
   "cell_type": "code",
   "execution_count": 23,
   "id": "62b48450",
   "metadata": {},
   "outputs": [
    {
     "name": "stdout",
     "output_type": "stream",
     "text": [
      "Delhi\n",
      "DatetimeIndex([], dtype='datetime64[ns]', freq='D')\n",
      "\n",
      "Karnataka\n",
      "DatetimeIndex([], dtype='datetime64[ns]', freq='D')\n",
      "\n",
      "Maharashtra\n",
      "DatetimeIndex([], dtype='datetime64[ns]', freq='D')\n",
      "\n",
      "Rajasthan\n",
      "DatetimeIndex([], dtype='datetime64[ns]', freq='D')\n",
      "\n",
      "Tamil Nadu\n",
      "DatetimeIndex([], dtype='datetime64[ns]', freq='D')\n",
      "\n",
      "Uttar Pradesh\n",
      "DatetimeIndex([], dtype='datetime64[ns]', freq='D')\n",
      "\n"
     ]
    }
   ],
   "source": [
    "check_missing_dates(weather_data)"
   ]
  },
  {
   "cell_type": "markdown",
   "id": "11f0870c",
   "metadata": {},
   "source": [
    "It appears that there are not any."
   ]
  },
  {
   "cell_type": "markdown",
   "id": "cec9766b",
   "metadata": {},
   "source": [
    "The dataset is now fully cleaned and I can move on to the next one."
   ]
  },
  {
   "cell_type": "markdown",
   "id": "f7c63c00",
   "metadata": {},
   "source": [
    "## Power"
   ]
  },
  {
   "cell_type": "markdown",
   "id": "a821897f",
   "metadata": {},
   "source": [
    "The second dataset contains information about the power consumption in major Indian cities from 2 Jan 2019 to 5 Dec 2020 measured in Mega Units (MU). "
   ]
  },
  {
   "cell_type": "code",
   "execution_count": 24,
   "id": "c1376d6b",
   "metadata": {},
   "outputs": [],
   "source": [
    "power_data = pd.read_csv(raw_data + \"/power.csv\")"
   ]
  },
  {
   "cell_type": "code",
   "execution_count": 25,
   "id": "5625b54c",
   "metadata": {},
   "outputs": [
    {
     "data": {
      "text/html": [
       "<div>\n",
       "<style scoped>\n",
       "    .dataframe tbody tr th:only-of-type {\n",
       "        vertical-align: middle;\n",
       "    }\n",
       "\n",
       "    .dataframe tbody tr th {\n",
       "        vertical-align: top;\n",
       "    }\n",
       "\n",
       "    .dataframe thead th {\n",
       "        text-align: right;\n",
       "    }\n",
       "</style>\n",
       "<table border=\"1\" class=\"dataframe\">\n",
       "  <thead>\n",
       "    <tr style=\"text-align: right;\">\n",
       "      <th></th>\n",
       "      <th>Unnamed: 0</th>\n",
       "      <th>Punjab</th>\n",
       "      <th>Haryana</th>\n",
       "      <th>Rajasthan</th>\n",
       "      <th>Delhi</th>\n",
       "      <th>UP</th>\n",
       "      <th>Uttarakhand</th>\n",
       "      <th>HP</th>\n",
       "      <th>J&amp;K</th>\n",
       "      <th>Chandigarh</th>\n",
       "      <th>...</th>\n",
       "      <th>Odisha</th>\n",
       "      <th>West Bengal</th>\n",
       "      <th>Sikkim</th>\n",
       "      <th>Arunachal Pradesh</th>\n",
       "      <th>Assam</th>\n",
       "      <th>Manipur</th>\n",
       "      <th>Meghalaya</th>\n",
       "      <th>Mizoram</th>\n",
       "      <th>Nagaland</th>\n",
       "      <th>Tripura</th>\n",
       "    </tr>\n",
       "  </thead>\n",
       "  <tbody>\n",
       "    <tr>\n",
       "      <th>0</th>\n",
       "      <td>02/01/2019 00:00:00</td>\n",
       "      <td>119.9</td>\n",
       "      <td>130.3</td>\n",
       "      <td>234.1</td>\n",
       "      <td>85.8</td>\n",
       "      <td>313.9</td>\n",
       "      <td>40.7</td>\n",
       "      <td>30.0</td>\n",
       "      <td>52.5</td>\n",
       "      <td>5.0</td>\n",
       "      <td>...</td>\n",
       "      <td>70.2</td>\n",
       "      <td>108.2</td>\n",
       "      <td>2.0</td>\n",
       "      <td>2.1</td>\n",
       "      <td>21.7</td>\n",
       "      <td>2.7</td>\n",
       "      <td>6.1</td>\n",
       "      <td>1.9</td>\n",
       "      <td>2.2</td>\n",
       "      <td>3.4</td>\n",
       "    </tr>\n",
       "    <tr>\n",
       "      <th>1</th>\n",
       "      <td>03/01/2019 00:00:00</td>\n",
       "      <td>121.9</td>\n",
       "      <td>133.5</td>\n",
       "      <td>240.2</td>\n",
       "      <td>85.5</td>\n",
       "      <td>311.8</td>\n",
       "      <td>39.3</td>\n",
       "      <td>30.1</td>\n",
       "      <td>54.1</td>\n",
       "      <td>4.9</td>\n",
       "      <td>...</td>\n",
       "      <td>67.9</td>\n",
       "      <td>110.2</td>\n",
       "      <td>1.9</td>\n",
       "      <td>2.2</td>\n",
       "      <td>23.4</td>\n",
       "      <td>2.4</td>\n",
       "      <td>6.5</td>\n",
       "      <td>1.8</td>\n",
       "      <td>2.2</td>\n",
       "      <td>3.6</td>\n",
       "    </tr>\n",
       "    <tr>\n",
       "      <th>2</th>\n",
       "      <td>04/01/2019 00:00:00</td>\n",
       "      <td>118.8</td>\n",
       "      <td>128.2</td>\n",
       "      <td>239.8</td>\n",
       "      <td>83.5</td>\n",
       "      <td>320.7</td>\n",
       "      <td>38.1</td>\n",
       "      <td>30.1</td>\n",
       "      <td>53.2</td>\n",
       "      <td>4.8</td>\n",
       "      <td>...</td>\n",
       "      <td>66.3</td>\n",
       "      <td>106.8</td>\n",
       "      <td>1.7</td>\n",
       "      <td>2.2</td>\n",
       "      <td>21.7</td>\n",
       "      <td>2.4</td>\n",
       "      <td>6.3</td>\n",
       "      <td>1.7</td>\n",
       "      <td>2.2</td>\n",
       "      <td>3.5</td>\n",
       "    </tr>\n",
       "    <tr>\n",
       "      <th>3</th>\n",
       "      <td>05/01/2019 00:00:00</td>\n",
       "      <td>121.0</td>\n",
       "      <td>127.5</td>\n",
       "      <td>239.1</td>\n",
       "      <td>79.2</td>\n",
       "      <td>299.0</td>\n",
       "      <td>39.2</td>\n",
       "      <td>30.2</td>\n",
       "      <td>51.5</td>\n",
       "      <td>4.3</td>\n",
       "      <td>...</td>\n",
       "      <td>65.8</td>\n",
       "      <td>107.0</td>\n",
       "      <td>2.0</td>\n",
       "      <td>2.2</td>\n",
       "      <td>22.5</td>\n",
       "      <td>2.7</td>\n",
       "      <td>5.7</td>\n",
       "      <td>1.8</td>\n",
       "      <td>2.3</td>\n",
       "      <td>3.5</td>\n",
       "    </tr>\n",
       "    <tr>\n",
       "      <th>4</th>\n",
       "      <td>06/01/2019 00:00:00</td>\n",
       "      <td>121.4</td>\n",
       "      <td>132.6</td>\n",
       "      <td>240.4</td>\n",
       "      <td>76.6</td>\n",
       "      <td>286.8</td>\n",
       "      <td>39.2</td>\n",
       "      <td>31.0</td>\n",
       "      <td>53.2</td>\n",
       "      <td>4.3</td>\n",
       "      <td>...</td>\n",
       "      <td>62.9</td>\n",
       "      <td>106.4</td>\n",
       "      <td>2.0</td>\n",
       "      <td>2.2</td>\n",
       "      <td>21.7</td>\n",
       "      <td>2.7</td>\n",
       "      <td>6.2</td>\n",
       "      <td>1.9</td>\n",
       "      <td>2.3</td>\n",
       "      <td>3.3</td>\n",
       "    </tr>\n",
       "    <tr>\n",
       "      <th>...</th>\n",
       "      <td>...</td>\n",
       "      <td>...</td>\n",
       "      <td>...</td>\n",
       "      <td>...</td>\n",
       "      <td>...</td>\n",
       "      <td>...</td>\n",
       "      <td>...</td>\n",
       "      <td>...</td>\n",
       "      <td>...</td>\n",
       "      <td>...</td>\n",
       "      <td>...</td>\n",
       "      <td>...</td>\n",
       "      <td>...</td>\n",
       "      <td>...</td>\n",
       "      <td>...</td>\n",
       "      <td>...</td>\n",
       "      <td>...</td>\n",
       "      <td>...</td>\n",
       "      <td>...</td>\n",
       "      <td>...</td>\n",
       "      <td>...</td>\n",
       "    </tr>\n",
       "    <tr>\n",
       "      <th>498</th>\n",
       "      <td>01/12/2020 00:00:00</td>\n",
       "      <td>130.8</td>\n",
       "      <td>126.0</td>\n",
       "      <td>220.4</td>\n",
       "      <td>77.3</td>\n",
       "      <td>322.8</td>\n",
       "      <td>36.5</td>\n",
       "      <td>25.4</td>\n",
       "      <td>45.4</td>\n",
       "      <td>3.6</td>\n",
       "      <td>...</td>\n",
       "      <td>105.7</td>\n",
       "      <td>172.6</td>\n",
       "      <td>1.4</td>\n",
       "      <td>2.1</td>\n",
       "      <td>20.4</td>\n",
       "      <td>2.1</td>\n",
       "      <td>5.4</td>\n",
       "      <td>1.8</td>\n",
       "      <td>2.0</td>\n",
       "      <td>2.4</td>\n",
       "    </tr>\n",
       "    <tr>\n",
       "      <th>499</th>\n",
       "      <td>02/12/2020 00:00:00</td>\n",
       "      <td>129.4</td>\n",
       "      <td>127.3</td>\n",
       "      <td>218.4</td>\n",
       "      <td>81.3</td>\n",
       "      <td>331.4</td>\n",
       "      <td>37.0</td>\n",
       "      <td>25.8</td>\n",
       "      <td>45.2</td>\n",
       "      <td>3.7</td>\n",
       "      <td>...</td>\n",
       "      <td>112.3</td>\n",
       "      <td>174.4</td>\n",
       "      <td>1.5</td>\n",
       "      <td>2.1</td>\n",
       "      <td>23.3</td>\n",
       "      <td>2.4</td>\n",
       "      <td>5.4</td>\n",
       "      <td>1.6</td>\n",
       "      <td>2.1</td>\n",
       "      <td>3.3</td>\n",
       "    </tr>\n",
       "    <tr>\n",
       "      <th>500</th>\n",
       "      <td>03/12/2020 00:00:00</td>\n",
       "      <td>132.1</td>\n",
       "      <td>129.7</td>\n",
       "      <td>205.6</td>\n",
       "      <td>85.6</td>\n",
       "      <td>336.7</td>\n",
       "      <td>37.8</td>\n",
       "      <td>26.2</td>\n",
       "      <td>45.2</td>\n",
       "      <td>4.0</td>\n",
       "      <td>...</td>\n",
       "      <td>113.0</td>\n",
       "      <td>169.8</td>\n",
       "      <td>1.4</td>\n",
       "      <td>2.1</td>\n",
       "      <td>21.7</td>\n",
       "      <td>2.3</td>\n",
       "      <td>5.4</td>\n",
       "      <td>1.5</td>\n",
       "      <td>2.0</td>\n",
       "      <td>3.6</td>\n",
       "    </tr>\n",
       "    <tr>\n",
       "      <th>501</th>\n",
       "      <td>04/12/2020 00:00:00</td>\n",
       "      <td>132.1</td>\n",
       "      <td>128.4</td>\n",
       "      <td>207.0</td>\n",
       "      <td>83.9</td>\n",
       "      <td>334.6</td>\n",
       "      <td>38.2</td>\n",
       "      <td>27.0</td>\n",
       "      <td>43.0</td>\n",
       "      <td>4.0</td>\n",
       "      <td>...</td>\n",
       "      <td>111.6</td>\n",
       "      <td>145.5</td>\n",
       "      <td>1.2</td>\n",
       "      <td>2.0</td>\n",
       "      <td>24.2</td>\n",
       "      <td>2.5</td>\n",
       "      <td>5.7</td>\n",
       "      <td>1.6</td>\n",
       "      <td>2.0</td>\n",
       "      <td>3.3</td>\n",
       "    </tr>\n",
       "    <tr>\n",
       "      <th>502</th>\n",
       "      <td>05/12/2020 00:00:00</td>\n",
       "      <td>120.4</td>\n",
       "      <td>111.2</td>\n",
       "      <td>201.4</td>\n",
       "      <td>83.6</td>\n",
       "      <td>287.3</td>\n",
       "      <td>35.2</td>\n",
       "      <td>24.3</td>\n",
       "      <td>42.6</td>\n",
       "      <td>3.5</td>\n",
       "      <td>...</td>\n",
       "      <td>95.1</td>\n",
       "      <td>110.4</td>\n",
       "      <td>1.2</td>\n",
       "      <td>2.1</td>\n",
       "      <td>20.3</td>\n",
       "      <td>2.5</td>\n",
       "      <td>5.8</td>\n",
       "      <td>1.6</td>\n",
       "      <td>2.1</td>\n",
       "      <td>3.3</td>\n",
       "    </tr>\n",
       "  </tbody>\n",
       "</table>\n",
       "<p>503 rows × 34 columns</p>\n",
       "</div>"
      ],
      "text/plain": [
       "              Unnamed: 0  Punjab  Haryana  Rajasthan  Delhi     UP  \\\n",
       "0    02/01/2019 00:00:00   119.9    130.3      234.1   85.8  313.9   \n",
       "1    03/01/2019 00:00:00   121.9    133.5      240.2   85.5  311.8   \n",
       "2    04/01/2019 00:00:00   118.8    128.2      239.8   83.5  320.7   \n",
       "3    05/01/2019 00:00:00   121.0    127.5      239.1   79.2  299.0   \n",
       "4    06/01/2019 00:00:00   121.4    132.6      240.4   76.6  286.8   \n",
       "..                   ...     ...      ...        ...    ...    ...   \n",
       "498  01/12/2020 00:00:00   130.8    126.0      220.4   77.3  322.8   \n",
       "499  02/12/2020 00:00:00   129.4    127.3      218.4   81.3  331.4   \n",
       "500  03/12/2020 00:00:00   132.1    129.7      205.6   85.6  336.7   \n",
       "501  04/12/2020 00:00:00   132.1    128.4      207.0   83.9  334.6   \n",
       "502  05/12/2020 00:00:00   120.4    111.2      201.4   83.6  287.3   \n",
       "\n",
       "     Uttarakhand    HP   J&K  Chandigarh  ...  Odisha  West Bengal  Sikkim  \\\n",
       "0           40.7  30.0  52.5         5.0  ...    70.2        108.2     2.0   \n",
       "1           39.3  30.1  54.1         4.9  ...    67.9        110.2     1.9   \n",
       "2           38.1  30.1  53.2         4.8  ...    66.3        106.8     1.7   \n",
       "3           39.2  30.2  51.5         4.3  ...    65.8        107.0     2.0   \n",
       "4           39.2  31.0  53.2         4.3  ...    62.9        106.4     2.0   \n",
       "..           ...   ...   ...         ...  ...     ...          ...     ...   \n",
       "498         36.5  25.4  45.4         3.6  ...   105.7        172.6     1.4   \n",
       "499         37.0  25.8  45.2         3.7  ...   112.3        174.4     1.5   \n",
       "500         37.8  26.2  45.2         4.0  ...   113.0        169.8     1.4   \n",
       "501         38.2  27.0  43.0         4.0  ...   111.6        145.5     1.2   \n",
       "502         35.2  24.3  42.6         3.5  ...    95.1        110.4     1.2   \n",
       "\n",
       "     Arunachal Pradesh  Assam  Manipur  Meghalaya  Mizoram  Nagaland  Tripura  \n",
       "0                  2.1   21.7      2.7        6.1      1.9       2.2      3.4  \n",
       "1                  2.2   23.4      2.4        6.5      1.8       2.2      3.6  \n",
       "2                  2.2   21.7      2.4        6.3      1.7       2.2      3.5  \n",
       "3                  2.2   22.5      2.7        5.7      1.8       2.3      3.5  \n",
       "4                  2.2   21.7      2.7        6.2      1.9       2.3      3.3  \n",
       "..                 ...    ...      ...        ...      ...       ...      ...  \n",
       "498                2.1   20.4      2.1        5.4      1.8       2.0      2.4  \n",
       "499                2.1   23.3      2.4        5.4      1.6       2.1      3.3  \n",
       "500                2.1   21.7      2.3        5.4      1.5       2.0      3.6  \n",
       "501                2.0   24.2      2.5        5.7      1.6       2.0      3.3  \n",
       "502                2.1   20.3      2.5        5.8      1.6       2.1      3.3  \n",
       "\n",
       "[503 rows x 34 columns]"
      ]
     },
     "execution_count": 25,
     "metadata": {},
     "output_type": "execute_result"
    }
   ],
   "source": [
    "power_data"
   ]
  },
  {
   "cell_type": "code",
   "execution_count": 26,
   "id": "722ff7ee",
   "metadata": {},
   "outputs": [],
   "source": [
    "power_data = power_data.rename(columns = {\"UP\": \"Uttar Pradesh\", \"Unnamed: 0\": \"date\"})"
   ]
  },
  {
   "cell_type": "markdown",
   "id": "6fcacb63",
   "metadata": {},
   "source": [
    "First of all, I filter the columns and use only the ones that represent states, for which there is data in the first dataset"
   ]
  },
  {
   "cell_type": "code",
   "execution_count": 27,
   "id": "ffb6db12",
   "metadata": {},
   "outputs": [
    {
     "data": {
      "text/html": [
       "<div>\n",
       "<style scoped>\n",
       "    .dataframe tbody tr th:only-of-type {\n",
       "        vertical-align: middle;\n",
       "    }\n",
       "\n",
       "    .dataframe tbody tr th {\n",
       "        vertical-align: top;\n",
       "    }\n",
       "\n",
       "    .dataframe thead th {\n",
       "        text-align: right;\n",
       "    }\n",
       "</style>\n",
       "<table border=\"1\" class=\"dataframe\">\n",
       "  <thead>\n",
       "    <tr style=\"text-align: right;\">\n",
       "      <th></th>\n",
       "      <th>date</th>\n",
       "      <th>Karnataka</th>\n",
       "      <th>Maharashtra</th>\n",
       "      <th>Delhi</th>\n",
       "      <th>Tamil Nadu</th>\n",
       "      <th>Rajasthan</th>\n",
       "      <th>Uttar Pradesh</th>\n",
       "    </tr>\n",
       "  </thead>\n",
       "  <tbody>\n",
       "    <tr>\n",
       "      <th>0</th>\n",
       "      <td>02/01/2019 00:00:00</td>\n",
       "      <td>206.3</td>\n",
       "      <td>428.6</td>\n",
       "      <td>85.8</td>\n",
       "      <td>268.3</td>\n",
       "      <td>234.1</td>\n",
       "      <td>313.9</td>\n",
       "    </tr>\n",
       "    <tr>\n",
       "      <th>1</th>\n",
       "      <td>03/01/2019 00:00:00</td>\n",
       "      <td>212.2</td>\n",
       "      <td>419.6</td>\n",
       "      <td>85.5</td>\n",
       "      <td>285.2</td>\n",
       "      <td>240.2</td>\n",
       "      <td>311.8</td>\n",
       "    </tr>\n",
       "    <tr>\n",
       "      <th>2</th>\n",
       "      <td>04/01/2019 00:00:00</td>\n",
       "      <td>205.3</td>\n",
       "      <td>395.8</td>\n",
       "      <td>83.5</td>\n",
       "      <td>270.3</td>\n",
       "      <td>239.8</td>\n",
       "      <td>320.7</td>\n",
       "    </tr>\n",
       "    <tr>\n",
       "      <th>3</th>\n",
       "      <td>05/01/2019 00:00:00</td>\n",
       "      <td>212.4</td>\n",
       "      <td>411.1</td>\n",
       "      <td>79.2</td>\n",
       "      <td>286.8</td>\n",
       "      <td>239.1</td>\n",
       "      <td>299.0</td>\n",
       "    </tr>\n",
       "    <tr>\n",
       "      <th>4</th>\n",
       "      <td>06/01/2019 00:00:00</td>\n",
       "      <td>217.5</td>\n",
       "      <td>408.6</td>\n",
       "      <td>76.6</td>\n",
       "      <td>298.3</td>\n",
       "      <td>240.4</td>\n",
       "      <td>286.8</td>\n",
       "    </tr>\n",
       "  </tbody>\n",
       "</table>\n",
       "</div>"
      ],
      "text/plain": [
       "                  date  Karnataka  Maharashtra  Delhi  Tamil Nadu  Rajasthan  \\\n",
       "0  02/01/2019 00:00:00      206.3        428.6   85.8       268.3      234.1   \n",
       "1  03/01/2019 00:00:00      212.2        419.6   85.5       285.2      240.2   \n",
       "2  04/01/2019 00:00:00      205.3        395.8   83.5       270.3      239.8   \n",
       "3  05/01/2019 00:00:00      212.4        411.1   79.2       286.8      239.1   \n",
       "4  06/01/2019 00:00:00      217.5        408.6   76.6       298.3      240.4   \n",
       "\n",
       "   Uttar Pradesh  \n",
       "0          313.9  \n",
       "1          311.8  \n",
       "2          320.7  \n",
       "3          299.0  \n",
       "4          286.8  "
      ]
     },
     "execution_count": 27,
     "metadata": {},
     "output_type": "execute_result"
    }
   ],
   "source": [
    "cols = list(set(power_data.columns) & set(states_and_cities.keys()))\n",
    "power_data = power_data[[\"date\"] + cols]\n",
    "power_data.head()"
   ]
  },
  {
   "cell_type": "markdown",
   "id": "8d3a0153",
   "metadata": {},
   "source": [
    "There was a comment on Kaggle stating that there are issues with the date column. Some dates have switched month and date values."
   ]
  },
  {
   "cell_type": "code",
   "execution_count": 28,
   "id": "58e7c23c",
   "metadata": {},
   "outputs": [],
   "source": [
    "power_data[\"date\"] = pd.to_datetime(power_data[\"date\"], dayfirst = True)"
   ]
  },
  {
   "cell_type": "code",
   "execution_count": 29,
   "id": "e2568e2f",
   "metadata": {},
   "outputs": [
    {
     "data": {
      "text/html": [
       "<div>\n",
       "<style scoped>\n",
       "    .dataframe tbody tr th:only-of-type {\n",
       "        vertical-align: middle;\n",
       "    }\n",
       "\n",
       "    .dataframe tbody tr th {\n",
       "        vertical-align: top;\n",
       "    }\n",
       "\n",
       "    .dataframe thead th {\n",
       "        text-align: right;\n",
       "    }\n",
       "</style>\n",
       "<table border=\"1\" class=\"dataframe\">\n",
       "  <thead>\n",
       "    <tr style=\"text-align: right;\">\n",
       "      <th></th>\n",
       "      <th>date</th>\n",
       "      <th>Karnataka</th>\n",
       "      <th>Maharashtra</th>\n",
       "      <th>Delhi</th>\n",
       "      <th>Tamil Nadu</th>\n",
       "      <th>Rajasthan</th>\n",
       "      <th>Uttar Pradesh</th>\n",
       "    </tr>\n",
       "  </thead>\n",
       "  <tbody>\n",
       "    <tr>\n",
       "      <th>182</th>\n",
       "      <td>2019-07-08</td>\n",
       "      <td>196.4</td>\n",
       "      <td>380.5</td>\n",
       "      <td>57.8</td>\n",
       "      <td>253.7</td>\n",
       "      <td>171.8</td>\n",
       "      <td>280.3</td>\n",
       "    </tr>\n",
       "    <tr>\n",
       "      <th>183</th>\n",
       "      <td>2019-07-08</td>\n",
       "      <td>207.4</td>\n",
       "      <td>388.6</td>\n",
       "      <td>59.9</td>\n",
       "      <td>255.6</td>\n",
       "      <td>154.1</td>\n",
       "      <td>268.3</td>\n",
       "    </tr>\n",
       "    <tr>\n",
       "      <th>184</th>\n",
       "      <td>2019-07-09</td>\n",
       "      <td>207.2</td>\n",
       "      <td>399.1</td>\n",
       "      <td>56.8</td>\n",
       "      <td>255.0</td>\n",
       "      <td>163.0</td>\n",
       "      <td>260.2</td>\n",
       "    </tr>\n",
       "    <tr>\n",
       "      <th>185</th>\n",
       "      <td>2019-07-09</td>\n",
       "      <td>207.9</td>\n",
       "      <td>405.7</td>\n",
       "      <td>58.6</td>\n",
       "      <td>260.5</td>\n",
       "      <td>171.0</td>\n",
       "      <td>283.0</td>\n",
       "    </tr>\n",
       "    <tr>\n",
       "      <th>186</th>\n",
       "      <td>2019-07-10</td>\n",
       "      <td>205.5</td>\n",
       "      <td>410.2</td>\n",
       "      <td>59.9</td>\n",
       "      <td>261.7</td>\n",
       "      <td>167.2</td>\n",
       "      <td>284.4</td>\n",
       "    </tr>\n",
       "    <tr>\n",
       "      <th>187</th>\n",
       "      <td>2019-07-10</td>\n",
       "      <td>193.5</td>\n",
       "      <td>412.7</td>\n",
       "      <td>59.5</td>\n",
       "      <td>260.8</td>\n",
       "      <td>170.6</td>\n",
       "      <td>293.6</td>\n",
       "    </tr>\n",
       "    <tr>\n",
       "      <th>188</th>\n",
       "      <td>2019-07-11</td>\n",
       "      <td>198.2</td>\n",
       "      <td>404.4</td>\n",
       "      <td>62.2</td>\n",
       "      <td>259.0</td>\n",
       "      <td>168.0</td>\n",
       "      <td>296.3</td>\n",
       "    </tr>\n",
       "    <tr>\n",
       "      <th>189</th>\n",
       "      <td>2019-07-11</td>\n",
       "      <td>180.4</td>\n",
       "      <td>421.9</td>\n",
       "      <td>61.5</td>\n",
       "      <td>282.8</td>\n",
       "      <td>208.2</td>\n",
       "      <td>264.6</td>\n",
       "    </tr>\n",
       "    <tr>\n",
       "      <th>190</th>\n",
       "      <td>2019-07-12</td>\n",
       "      <td>183.5</td>\n",
       "      <td>429.8</td>\n",
       "      <td>62.6</td>\n",
       "      <td>291.4</td>\n",
       "      <td>211.8</td>\n",
       "      <td>268.3</td>\n",
       "    </tr>\n",
       "    <tr>\n",
       "      <th>191</th>\n",
       "      <td>2019-07-12</td>\n",
       "      <td>186.2</td>\n",
       "      <td>431.3</td>\n",
       "      <td>63.6</td>\n",
       "      <td>290.2</td>\n",
       "      <td>214.7</td>\n",
       "      <td>266.3</td>\n",
       "    </tr>\n",
       "  </tbody>\n",
       "</table>\n",
       "</div>"
      ],
      "text/plain": [
       "          date  Karnataka  Maharashtra  Delhi  Tamil Nadu  Rajasthan  \\\n",
       "182 2019-07-08      196.4        380.5   57.8       253.7      171.8   \n",
       "183 2019-07-08      207.4        388.6   59.9       255.6      154.1   \n",
       "184 2019-07-09      207.2        399.1   56.8       255.0      163.0   \n",
       "185 2019-07-09      207.9        405.7   58.6       260.5      171.0   \n",
       "186 2019-07-10      205.5        410.2   59.9       261.7      167.2   \n",
       "187 2019-07-10      193.5        412.7   59.5       260.8      170.6   \n",
       "188 2019-07-11      198.2        404.4   62.2       259.0      168.0   \n",
       "189 2019-07-11      180.4        421.9   61.5       282.8      208.2   \n",
       "190 2019-07-12      183.5        429.8   62.6       291.4      211.8   \n",
       "191 2019-07-12      186.2        431.3   63.6       290.2      214.7   \n",
       "\n",
       "     Uttar Pradesh  \n",
       "182          280.3  \n",
       "183          268.3  \n",
       "184          260.2  \n",
       "185          283.0  \n",
       "186          284.4  \n",
       "187          293.6  \n",
       "188          296.3  \n",
       "189          264.6  \n",
       "190          268.3  \n",
       "191          266.3  "
      ]
     },
     "execution_count": 29,
     "metadata": {},
     "output_type": "execute_result"
    }
   ],
   "source": [
    "power_data[power_data.duplicated([\"date\"], keep=False)]"
   ]
  },
  {
   "cell_type": "markdown",
   "id": "2282f1ea",
   "metadata": {},
   "source": [
    "All of them are for the month of July and all dates are after the 8th. We can then assume that the incorrect dates are the second ones since the data for July is probably inserted before the duplicates."
   ]
  },
  {
   "cell_type": "code",
   "execution_count": 30,
   "id": "e7e9c519",
   "metadata": {},
   "outputs": [],
   "source": [
    "index = 183\n",
    "while index <= 191:\n",
    "    val = power_data.at[index, \"date\"]\n",
    "    power_data.at[index, \"date\"] = pd.Timestamp(year = val.year, month = val.day, day = val.month)\n",
    "    index += 2"
   ]
  },
  {
   "cell_type": "markdown",
   "id": "578deb73",
   "metadata": {},
   "source": [
    "I notice that the columns contain the state and the values are the power consumption. I convert the dataframe from a wide format to a long format using `pandas.melt` because of convenience and the fact that it gets the same format as the other dataframe."
   ]
  },
  {
   "cell_type": "code",
   "execution_count": 31,
   "id": "6b05ea53",
   "metadata": {},
   "outputs": [
    {
     "data": {
      "text/html": [
       "<div>\n",
       "<style scoped>\n",
       "    .dataframe tbody tr th:only-of-type {\n",
       "        vertical-align: middle;\n",
       "    }\n",
       "\n",
       "    .dataframe tbody tr th {\n",
       "        vertical-align: top;\n",
       "    }\n",
       "\n",
       "    .dataframe thead th {\n",
       "        text-align: right;\n",
       "    }\n",
       "</style>\n",
       "<table border=\"1\" class=\"dataframe\">\n",
       "  <thead>\n",
       "    <tr style=\"text-align: right;\">\n",
       "      <th></th>\n",
       "      <th>date</th>\n",
       "      <th>state</th>\n",
       "      <th>usage</th>\n",
       "    </tr>\n",
       "  </thead>\n",
       "  <tbody>\n",
       "    <tr>\n",
       "      <th>0</th>\n",
       "      <td>2019-01-02</td>\n",
       "      <td>Karnataka</td>\n",
       "      <td>206.3</td>\n",
       "    </tr>\n",
       "    <tr>\n",
       "      <th>1</th>\n",
       "      <td>2019-01-03</td>\n",
       "      <td>Karnataka</td>\n",
       "      <td>212.2</td>\n",
       "    </tr>\n",
       "    <tr>\n",
       "      <th>2</th>\n",
       "      <td>2019-01-04</td>\n",
       "      <td>Karnataka</td>\n",
       "      <td>205.3</td>\n",
       "    </tr>\n",
       "    <tr>\n",
       "      <th>3</th>\n",
       "      <td>2019-01-05</td>\n",
       "      <td>Karnataka</td>\n",
       "      <td>212.4</td>\n",
       "    </tr>\n",
       "    <tr>\n",
       "      <th>4</th>\n",
       "      <td>2019-01-06</td>\n",
       "      <td>Karnataka</td>\n",
       "      <td>217.5</td>\n",
       "    </tr>\n",
       "  </tbody>\n",
       "</table>\n",
       "</div>"
      ],
      "text/plain": [
       "        date      state  usage\n",
       "0 2019-01-02  Karnataka  206.3\n",
       "1 2019-01-03  Karnataka  212.2\n",
       "2 2019-01-04  Karnataka  205.3\n",
       "3 2019-01-05  Karnataka  212.4\n",
       "4 2019-01-06  Karnataka  217.5"
      ]
     },
     "execution_count": 31,
     "metadata": {},
     "output_type": "execute_result"
    }
   ],
   "source": [
    "power_data = pd.melt(power_data, id_vars = \"date\", var_name = \"state\", value_name = \"usage\")\n",
    "power_data.head()"
   ]
  },
  {
   "cell_type": "markdown",
   "id": "512c57c3",
   "metadata": {},
   "source": [
    "I now check for missing values."
   ]
  },
  {
   "cell_type": "code",
   "execution_count": 32,
   "id": "096de593",
   "metadata": {},
   "outputs": [
    {
     "data": {
      "text/plain": [
       "date     0\n",
       "state    0\n",
       "usage    0\n",
       "dtype: int64"
      ]
     },
     "execution_count": 32,
     "metadata": {},
     "output_type": "execute_result"
    }
   ],
   "source": [
    "power_data.isnull().sum()"
   ]
  },
  {
   "cell_type": "markdown",
   "id": "ae6d3788",
   "metadata": {},
   "source": [
    "It appears that there are not any, therefore, I move on."
   ]
  },
  {
   "cell_type": "markdown",
   "id": "d70a6340",
   "metadata": {},
   "source": [
    "I decide to use only a full year of datapoints since that way each month is represented equally and we can later see the relationship between months/seasons and the power consumption. Then I also filter the first dataframe such that it contains data for the same time interval and we can merge the two dataframes later."
   ]
  },
  {
   "cell_type": "code",
   "execution_count": 33,
   "id": "c8ae7160",
   "metadata": {},
   "outputs": [
    {
     "data": {
      "text/plain": [
       "(Timestamp('2019-01-02 00:00:00'), Timestamp('2020-01-01 00:00:00'))"
      ]
     },
     "execution_count": 33,
     "metadata": {},
     "output_type": "execute_result"
    }
   ],
   "source": [
    "first_date = min(power_data[\"date\"])\n",
    "last_date = pd.Timestamp(year=first_date.year + 1 , month=first_date.month, day=first_date.day - 1)\n",
    "first_date, last_date"
   ]
  },
  {
   "cell_type": "code",
   "execution_count": 34,
   "id": "daf95a68",
   "metadata": {},
   "outputs": [],
   "source": [
    "def strip(df, start, end):\n",
    "    return df[(df[\"date\"] >= start) & (df[\"date\"] <= end)].sort_values([\"date\", \"state\"]).reset_index(drop = True)"
   ]
  },
  {
   "cell_type": "code",
   "execution_count": 35,
   "id": "d6ec5901",
   "metadata": {},
   "outputs": [],
   "source": [
    "power_data = strip(power_data, first_date, last_date)\n",
    "weather_data = strip(weather_data, first_date, last_date)"
   ]
  },
  {
   "cell_type": "markdown",
   "id": "1dbd222b",
   "metadata": {},
   "source": [
    "I again check for any skipped dates."
   ]
  },
  {
   "cell_type": "code",
   "execution_count": 36,
   "id": "9e7a0f1e",
   "metadata": {},
   "outputs": [
    {
     "name": "stdout",
     "output_type": "stream",
     "text": [
      "Delhi\n",
      "DatetimeIndex(['2019-02-01', '2019-03-01', '2019-04-01', '2019-05-01',\n",
      "               '2019-06-01'],\n",
      "              dtype='datetime64[ns]', freq=None)\n",
      "\n",
      "Karnataka\n",
      "DatetimeIndex(['2019-02-01', '2019-03-01', '2019-04-01', '2019-05-01',\n",
      "               '2019-06-01'],\n",
      "              dtype='datetime64[ns]', freq=None)\n",
      "\n",
      "Maharashtra\n",
      "DatetimeIndex(['2019-02-01', '2019-03-01', '2019-04-01', '2019-05-01',\n",
      "               '2019-06-01'],\n",
      "              dtype='datetime64[ns]', freq=None)\n",
      "\n",
      "Rajasthan\n",
      "DatetimeIndex(['2019-02-01', '2019-03-01', '2019-04-01', '2019-05-01',\n",
      "               '2019-06-01'],\n",
      "              dtype='datetime64[ns]', freq=None)\n",
      "\n",
      "Tamil Nadu\n",
      "DatetimeIndex(['2019-02-01', '2019-03-01', '2019-04-01', '2019-05-01',\n",
      "               '2019-06-01'],\n",
      "              dtype='datetime64[ns]', freq=None)\n",
      "\n",
      "Uttar Pradesh\n",
      "DatetimeIndex(['2019-02-01', '2019-03-01', '2019-04-01', '2019-05-01',\n",
      "               '2019-06-01'],\n",
      "              dtype='datetime64[ns]', freq=None)\n",
      "\n"
     ]
    }
   ],
   "source": [
    "check_missing_dates(power_data)"
   ]
  },
  {
   "cell_type": "markdown",
   "id": "3cc171eb",
   "metadata": {},
   "source": [
    "It appears that there are 5 dates missing, which are all in different months. Since that is a small number, I can just interpolate."
   ]
  },
  {
   "cell_type": "code",
   "execution_count": 37,
   "id": "8ecee97b",
   "metadata": {},
   "outputs": [],
   "source": [
    "def fill_datetime_and_interpolate(df):\n",
    "    groups = [gr.set_index(\"date\").asfreq(\"D\", fill_value = name).reset_index() for name, gr in df.groupby(\"state\")]\n",
    "    ret_df = pd.concat(groups)\n",
    "    ret_df[\"usage\"] = pd.to_numeric(ret_df[\"usage\"], errors = \"coerce\")\n",
    "    ret_df[\"usage\"] = ret_df[\"usage\"].interpolate()\n",
    "    return ret_df.sort_values(by = [\"date\", \"state\"]).reset_index(drop = True)"
   ]
  },
  {
   "cell_type": "code",
   "execution_count": 38,
   "id": "fc6b440d",
   "metadata": {},
   "outputs": [
    {
     "name": "stdout",
     "output_type": "stream",
     "text": [
      "Delhi\n",
      "DatetimeIndex([], dtype='datetime64[ns]', freq='D')\n",
      "\n",
      "Karnataka\n",
      "DatetimeIndex([], dtype='datetime64[ns]', freq='D')\n",
      "\n",
      "Maharashtra\n",
      "DatetimeIndex([], dtype='datetime64[ns]', freq='D')\n",
      "\n",
      "Rajasthan\n",
      "DatetimeIndex([], dtype='datetime64[ns]', freq='D')\n",
      "\n",
      "Tamil Nadu\n",
      "DatetimeIndex([], dtype='datetime64[ns]', freq='D')\n",
      "\n",
      "Uttar Pradesh\n",
      "DatetimeIndex([], dtype='datetime64[ns]', freq='D')\n",
      "\n"
     ]
    }
   ],
   "source": [
    "power_data = fill_datetime_and_interpolate(power_data)\n",
    "check_missing_dates(power_data)"
   ]
  },
  {
   "cell_type": "markdown",
   "id": "7239f1a3",
   "metadata": {},
   "source": [
    "The dataframe is now fully cleaned and has the same format as the first one, so I can move on."
   ]
  },
  {
   "cell_type": "markdown",
   "id": "e76f4103",
   "metadata": {},
   "source": [
    "## Merging"
   ]
  },
  {
   "cell_type": "markdown",
   "id": "14541056",
   "metadata": {},
   "source": [
    "Now that we have cleaned the dataframes, it is time to combine them into one and conclude the data acquisition and cleaning section."
   ]
  },
  {
   "cell_type": "code",
   "execution_count": 39,
   "id": "5a2ee90d",
   "metadata": {},
   "outputs": [],
   "source": [
    "data_all = power_data.merge(weather_data, on = [\"date\", \"state\"])"
   ]
  },
  {
   "cell_type": "code",
   "execution_count": 40,
   "id": "c83f6e78",
   "metadata": {},
   "outputs": [
    {
     "data": {
      "text/html": [
       "<div>\n",
       "<style scoped>\n",
       "    .dataframe tbody tr th:only-of-type {\n",
       "        vertical-align: middle;\n",
       "    }\n",
       "\n",
       "    .dataframe tbody tr th {\n",
       "        vertical-align: top;\n",
       "    }\n",
       "\n",
       "    .dataframe thead th {\n",
       "        text-align: right;\n",
       "    }\n",
       "</style>\n",
       "<table border=\"1\" class=\"dataframe\">\n",
       "  <thead>\n",
       "    <tr style=\"text-align: right;\">\n",
       "      <th></th>\n",
       "      <th>date</th>\n",
       "      <th>state</th>\n",
       "      <th>usage</th>\n",
       "      <th>tavg</th>\n",
       "      <th>tmin</th>\n",
       "      <th>tmax</th>\n",
       "      <th>prcp</th>\n",
       "    </tr>\n",
       "  </thead>\n",
       "  <tbody>\n",
       "    <tr>\n",
       "      <th>0</th>\n",
       "      <td>2019-01-02</td>\n",
       "      <td>Delhi</td>\n",
       "      <td>85.8</td>\n",
       "      <td>13.8</td>\n",
       "      <td>6.5</td>\n",
       "      <td>23.0</td>\n",
       "      <td>0.0</td>\n",
       "    </tr>\n",
       "    <tr>\n",
       "      <th>1</th>\n",
       "      <td>2019-01-02</td>\n",
       "      <td>Karnataka</td>\n",
       "      <td>206.3</td>\n",
       "      <td>19.9</td>\n",
       "      <td>12.4</td>\n",
       "      <td>28.1</td>\n",
       "      <td>0.0</td>\n",
       "    </tr>\n",
       "    <tr>\n",
       "      <th>2</th>\n",
       "      <td>2019-01-02</td>\n",
       "      <td>Maharashtra</td>\n",
       "      <td>428.6</td>\n",
       "      <td>25.5</td>\n",
       "      <td>14.6</td>\n",
       "      <td>31.0</td>\n",
       "      <td>0.0</td>\n",
       "    </tr>\n",
       "    <tr>\n",
       "      <th>3</th>\n",
       "      <td>2019-01-02</td>\n",
       "      <td>Rajasthan</td>\n",
       "      <td>234.1</td>\n",
       "      <td>19.9</td>\n",
       "      <td>12.4</td>\n",
       "      <td>28.1</td>\n",
       "      <td>0.0</td>\n",
       "    </tr>\n",
       "    <tr>\n",
       "      <th>4</th>\n",
       "      <td>2019-01-02</td>\n",
       "      <td>Tamil Nadu</td>\n",
       "      <td>268.3</td>\n",
       "      <td>24.4</td>\n",
       "      <td>19.3</td>\n",
       "      <td>29.0</td>\n",
       "      <td>0.0</td>\n",
       "    </tr>\n",
       "  </tbody>\n",
       "</table>\n",
       "</div>"
      ],
      "text/plain": [
       "        date        state  usage  tavg  tmin  tmax  prcp\n",
       "0 2019-01-02        Delhi   85.8  13.8   6.5  23.0   0.0\n",
       "1 2019-01-02    Karnataka  206.3  19.9  12.4  28.1   0.0\n",
       "2 2019-01-02  Maharashtra  428.6  25.5  14.6  31.0   0.0\n",
       "3 2019-01-02    Rajasthan  234.1  19.9  12.4  28.1   0.0\n",
       "4 2019-01-02   Tamil Nadu  268.3  24.4  19.3  29.0   0.0"
      ]
     },
     "execution_count": 40,
     "metadata": {},
     "output_type": "execute_result"
    }
   ],
   "source": [
    "data_all.head()"
   ]
  },
  {
   "cell_type": "code",
   "execution_count": 41,
   "id": "820694a8",
   "metadata": {},
   "outputs": [],
   "source": [
    "data_all.to_csv(\"data\\cleaned\\data_all.csv\", index = None, header=True)"
   ]
  }
 ],
 "metadata": {
  "kernelspec": {
   "display_name": "Python 3 (ipykernel)",
   "language": "python",
   "name": "python3"
  },
  "language_info": {
   "codemirror_mode": {
    "name": "ipython",
    "version": 3
   },
   "file_extension": ".py",
   "mimetype": "text/x-python",
   "name": "python",
   "nbconvert_exporter": "python",
   "pygments_lexer": "ipython3",
   "version": "3.9.4"
  }
 },
 "nbformat": 4,
 "nbformat_minor": 5
}
